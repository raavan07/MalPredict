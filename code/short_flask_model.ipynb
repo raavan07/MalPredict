{
  "cells": [
    {
      "cell_type": "code",
      "execution_count": 1,
      "metadata": {
        "id": "eRJqv5tphMEz"
      },
      "outputs": [
        {
          "name": "stdout",
          "output_type": "stream",
          "text": [
            "Defaulting to user installation because normal site-packages is not writeable\n",
            "Requirement already satisfied: androguard in c:\\program files\\python37\\lib\\site-packages (3.3.5)\n",
            "Requirement already satisfied: asn1crypto>=0.24.0 in c:\\program files\\python37\\lib\\site-packages (from androguard) (1.5.1)\n",
            "Requirement already satisfied: click in c:\\program files\\python37\\lib\\site-packages (from androguard) (8.1.3)\n",
            "Requirement already satisfied: colorama in c:\\users\\hp\\appdata\\roaming\\python\\python37\\site-packages (from androguard) (0.4.6)\n",
            "Requirement already satisfied: future in c:\\users\\hp\\appdata\\roaming\\python\\python37\\site-packages (from androguard) (0.18.2)\n",
            "Requirement already satisfied: ipython>=5.0.0 in c:\\users\\hp\\appdata\\roaming\\python\\python37\\site-packages (from androguard) (7.34.0)\n",
            "Requirement already satisfied: lxml in c:\\users\\hp\\appdata\\roaming\\python\\python37\\site-packages (from androguard) (4.9.2)\n",
            "Requirement already satisfied: matplotlib in c:\\users\\hp\\appdata\\roaming\\python\\python37\\site-packages (from androguard) (3.2.2)\n",
            "Requirement already satisfied: networkx>=1.11 in c:\\users\\hp\\appdata\\roaming\\python\\python37\\site-packages (from androguard) (2.6.3)\n",
            "Requirement already satisfied: pydot>=1.4.1 in c:\\users\\hp\\appdata\\roaming\\python\\python37\\site-packages (from androguard) (1.4.2)\n",
            "Requirement already satisfied: pygments in c:\\users\\hp\\appdata\\roaming\\python\\python37\\site-packages (from androguard) (2.14.0)\n",
            "Requirement already satisfied: setuptools>=18.5 in c:\\users\\hp\\appdata\\roaming\\python\\python37\\site-packages (from ipython>=5.0.0->androguard) (67.5.1)\n",
            "Requirement already satisfied: jedi>=0.16 in c:\\users\\hp\\appdata\\roaming\\python\\python37\\site-packages (from ipython>=5.0.0->androguard) (0.18.2)\n",
            "Requirement already satisfied: decorator in c:\\users\\hp\\appdata\\roaming\\python\\python37\\site-packages (from ipython>=5.0.0->androguard) (5.1.1)\n",
            "Requirement already satisfied: pickleshare in c:\\users\\hp\\appdata\\roaming\\python\\python37\\site-packages (from ipython>=5.0.0->androguard) (0.7.5)\n",
            "Requirement already satisfied: traitlets>=4.2 in c:\\program files\\python37\\lib\\site-packages (from ipython>=5.0.0->androguard) (5.9.0)\n",
            "Requirement already satisfied: prompt-toolkit!=3.0.0,!=3.0.1,<3.1.0,>=2.0.0 in c:\\program files\\python37\\lib\\site-packages (from ipython>=5.0.0->androguard) (3.0.38)\n",
            "Requirement already satisfied: backcall in c:\\users\\hp\\appdata\\roaming\\python\\python37\\site-packages (from ipython>=5.0.0->androguard) (0.2.0)\n",
            "Requirement already satisfied: matplotlib-inline in c:\\users\\hp\\appdata\\roaming\\python\\python37\\site-packages (from ipython>=5.0.0->androguard) (0.1.3)\n",
            "Requirement already satisfied: pyparsing>=2.1.4 in c:\\users\\hp\\appdata\\roaming\\python\\python37\\site-packages (from pydot>=1.4.1->androguard) (3.0.6)\n",
            "Requirement already satisfied: importlib-metadata in c:\\users\\hp\\appdata\\roaming\\python\\python37\\site-packages (from click->androguard) (4.13.0)\n",
            "Requirement already satisfied: cycler>=0.10 in c:\\users\\hp\\appdata\\roaming\\python\\python37\\site-packages (from matplotlib->androguard) (0.11.0)\n",
            "Requirement already satisfied: kiwisolver>=1.0.1 in c:\\users\\hp\\appdata\\roaming\\python\\python37\\site-packages (from matplotlib->androguard) (1.3.2)\n",
            "Requirement already satisfied: numpy>=1.11 in c:\\program files\\python37\\lib\\site-packages (from matplotlib->androguard) (1.21.6)\n",
            "Requirement already satisfied: python-dateutil>=2.1 in c:\\users\\hp\\appdata\\roaming\\python\\python37\\site-packages (from matplotlib->androguard) (2.8.2)\n",
            "Requirement already satisfied: parso<0.9.0,>=0.8.0 in c:\\users\\hp\\appdata\\roaming\\python\\python37\\site-packages (from jedi>=0.16->ipython>=5.0.0->androguard) (0.8.3)\n",
            "Requirement already satisfied: wcwidth in c:\\users\\hp\\appdata\\roaming\\python\\python37\\site-packages (from prompt-toolkit!=3.0.0,!=3.0.1,<3.1.0,>=2.0.0->ipython>=5.0.0->androguard) (0.2.5)\n",
            "Requirement already satisfied: six>=1.5 in c:\\program files\\python37\\lib\\site-packages (from python-dateutil>=2.1->matplotlib->androguard) (1.15.0)\n",
            "Requirement already satisfied: zipp>=0.5 in c:\\users\\hp\\appdata\\roaming\\python\\python37\\site-packages (from importlib-metadata->click->androguard) (3.6.0)\n",
            "Requirement already satisfied: typing-extensions>=3.6.4 in c:\\program files\\python37\\lib\\site-packages (from importlib-metadata->click->androguard) (4.4.0)\n"
          ]
        },
        {
          "name": "stderr",
          "output_type": "stream",
          "text": [
            "WARNING: Ignoring invalid distribution -rotobuf (c:\\users\\hp\\appdata\\roaming\\python\\python37\\site-packages)\n",
            "WARNING: Ignoring invalid distribution -andas (c:\\program files\\python37\\lib\\site-packages)\n",
            "WARNING: Ignoring invalid distribution -rotobuf (c:\\users\\hp\\appdata\\roaming\\python\\python37\\site-packages)\n",
            "WARNING: Ignoring invalid distribution -andas (c:\\program files\\python37\\lib\\site-packages)\n"
          ]
        }
      ],
      "source": [
        "!pip install androguard"
      ]
    },
    {
      "cell_type": "code",
      "execution_count": 2,
      "metadata": {
        "id": "0UfifJJEiMei"
      },
      "outputs": [],
      "source": [
        "perms = ['android.permission.ACCESS_CACHE_FILESYSTEM',\n",
        "       'android.permission.ACCESS_COARSE_LOCATION',\n",
        "       'android.permission.ACCESS_FINE_LOCATION',\n",
        "       'android.permission.ACCESS_LOCATION_EXTRA_COMMANDS',\n",
        "       'android.permission.ACCESS_MOCK_LOCATION',\n",
        "       'android.permission.ACCESS_NETWORK_STATE',\n",
        "       'android.permission.ACCESS_WIFI_STATE',\n",
        "       'android.permission.ACCESS_WIMAX_STATE',\n",
        "       'android.permission.AUTHENTICATE_ACCOUNTS',\n",
        "       'android.permission.BATTERY_STATS', 'android.permission.BLUETOOTH',\n",
        "       'android.permission.BROADCAST_PACKAGE_REMOVED',\n",
        "       'android.permission.BROADCAST_STICKY', 'android.permission.CALL_PHONE',\n",
        "       'android.permission.CALL_PRIVILEGED', 'android.permission.CAMERA',\n",
        "       'android.permission.CHANGE_COMPONENT_ENABLED_STATE',\n",
        "       'android.permission.CHANGE_CONFIGURATION',\n",
        "       'android.permission.CHANGE_NETWORK_STATE',\n",
        "       'android.permission.CHANGE_WIFI_MULTICAST_STATE',\n",
        "       'android.permission.CHANGE_WIFI_STATE',\n",
        "       'android.permission.CLEAR_APP_CACHE',\n",
        "       'android.permission.DELETE_PACKAGES', 'android.permission.DEVICE_POWER',\n",
        "       'android.permission.DISABLE_KEYGUARD', 'android.permission.DUMP',\n",
        "       'android.permission.EXPAND_STATUS_BAR',\n",
        "       'android.permission.GET_ACCOUNTS',\n",
        "       'android.permission.GET_PACKAGE_SIZE', 'android.permission.GET_TASKS',\n",
        "       'android.permission.INJECT_EVENTS',\n",
        "       'android.permission.INSTALL_PACKAGES', 'android.permission.INTERNET',\n",
        "       'android.permission.KILL_BACKGROUND_PROCESSES',\n",
        "       'android.permission.MANAGE_ACCOUNTS',\n",
        "       'android.permission.MODIFY_AUDIO_SETTINGS',\n",
        "       'android.permission.MOUNT_UNMOUNT_FILESYSTEMS',\n",
        "       'android.permission.NFC', 'android.permission.PROCESS_OUTGOING_CALLS',\n",
        "       'android.permission.READ_CALENDAR', 'android.permission.READ_CALL_LOG',\n",
        "       'android.permission.READ_LOGS', 'android.permission.READ_PHONE_STATE',\n",
        "       'android.permission.READ_SMS',\n",
        "       'android.permission.RECEIVE_BOOT_COMPLETED',\n",
        "       'android.permission.RECORD_AUDIO', 'android.permission.SET_ORIENTATION',\n",
        "       'android.permission.SET_PREFERRED_APPLICATIONS',\n",
        "       'android.permission.SET_WALLPAPER',\n",
        "       'android.permission.SYSTEM_ALERT_WINDOW', 'android.permission.VIBRATE',\n",
        "       'android.permission.WAKE_LOCK',\n",
        "       'android.permission.WRITE_EXTERNAL_STORAGE',\n",
        "       'android.permission.WRITE_SETTINGS',\n",
        "       'com.android.alarm.permission.SET_ALARM',\n",
        "       'com.android.browser.permission.READ_HISTORY_BOOKMARKS',\n",
        "       'com.android.launcher.permission.INSTALL_SHORTCUT',\n",
        "       'com.android.launcher.permission.UNINSTALL_SHORTCUT']"
      ]
    },
    {
      "cell_type": "code",
      "execution_count": 3,
      "metadata": {
        "colab": {
          "base_uri": "https://localhost:8080/"
        },
        "id": "-3C3AWE2hZR7",
        "outputId": "264f756c-4379-4c2f-b147-f9c4c5c80eb5"
      },
      "outputs": [
        {
          "name": "stderr",
          "output_type": "stream",
          "text": [
            "Requested API level 33 is larger than maximum we have, returning API level 28 instead.\n"
          ]
        },
        {
          "name": "stdout",
          "output_type": "stream",
          "text": [
            "['android.permission.USE_FINGERPRINT', 'android.permission.READ_MEDIA_IMAGES', 'com.google.android.c2dm.permission.RECEIVE', 'com.google.android.providers.gsf.permission.READ_GSERVICES', 'com.sonyericsson.home.permission.BROADCAST_BADGE', 'android.permission.BLUETOOTH', 'android.permission.INSTALL_SHORTCUT', 'android.permission.WAKE_LOCK', 'android.permission.CHANGE_WIFI_STATE', 'android.permission.FOREGROUND_SERVICE', 'android.permission.NFC', 'android.permission.ACCESS_COARSE_LOCATION', 'com.whatsapp.sticker.READ', 'com.google.android.finsky.permission.BIND_GET_INSTALL_REFERRER_SERVICE', 'android.permission.CHANGE_NETWORK_STATE', 'android.permission.READ_EXTERNAL_STORAGE', 'android.permission.WRITE_CONTACTS', 'android.permission.READ_MEDIA_AUDIO', 'android.permission.ACCESS_FINE_LOCATION', 'com.android.launcher.permission.INSTALL_SHORTCUT', 'com.facebook.services.identity.FEO2', 'com.htc.launcher.permission.READ_SETTINGS', 'com.whatsapp.permission.REGISTRATION', 'android.permission.READ_PROFILE', 'android.permission.RECORD_AUDIO', 'android.permission.ACCESS_NETWORK_STATE', 'android.permission.READ_SYNC_SETTINGS', 'com.whatsapp.permission.BROADCAST', 'android.permission.READ_PHONE_STATE', 'android.permission.MANAGE_ACCOUNTS', 'com.android.launcher.permission.UNINSTALL_SHORTCUT', 'android.permission.MODIFY_AUDIO_SETTINGS', 'com.htc.launcher.permission.UPDATE_SHORTCUT', 'com.huawei.android.launcher.permission.WRITE_SETTINGS', 'android.permission.USE_FULL_SCREEN_INTENT', 'android.permission.INTERNET', 'com.sec.android.provider.badge.permission.WRITE', 'android.permission.SEND_SMS', 'android.permission.READ_SYNC_STATS', 'android.permission.SCHEDULE_EXACT_ALARM', 'android.permission.WRITE_SYNC_SETTINGS', 'android.permission.RECEIVE_BOOT_COMPLETED', 'android.permission.MANAGE_OWN_CALLS', 'android.permission.BROADCAST_STICKY', 'android.permission.USE_CREDENTIALS', 'android.permission.WRITE_EXTERNAL_STORAGE', 'android.permission.READ_PHONE_NUMBERS', 'com.google.android.gms.permission.AD_ID', 'android.permission.POST_NOTIFICATIONS', 'android.permission.READ_CONTACTS', 'com.whatsapp.permission.MAPS_RECEIVE', 'android.permission.USE_BIOMETRIC', 'com.huawei.android.launcher.permission.CHANGE_BADGE', 'android.permission.READ_MEDIA_VIDEO', 'android.permission.RECEIVE_SMS', 'android.permission.AUTHENTICATE_ACCOUNTS', 'android.permission.CAMERA', 'android.permission.GET_ACCOUNTS', 'android.permission.GET_TASKS', 'android.permission.VIBRATE', 'android.permission.REQUEST_INSTALL_PACKAGES', 'com.sonymobile.home.permission.PROVIDER_INSERT_BADGE', 'android.permission.ACCESS_WIFI_STATE', 'com.huawei.android.launcher.permission.READ_SETTINGS', 'com.sec.android.provider.badge.permission.READ', 'android.permission.NEARBY_WIFI_DEVICES']\n"
          ]
        }
      ],
      "source": [
        "from androguard.core.bytecodes.apk import APK\n",
        "result = []\n",
        "\n",
        "def predict(apk):\n",
        "  vector = {}\n",
        "  a = APK(apk)\n",
        "  perm = a.get_permissions()\n",
        "  print(perm)\n",
        "  for d in perms:\n",
        "    if d in perm:\n",
        "      vector[d]=1\n",
        "      result.append(1)\n",
        "    else:\n",
        "      vector[d]=0\n",
        "      result.append(0)\n",
        "  input = [ v for v in vector.values() ]\n",
        "  return input\n",
        "  # print(grid.predict([input]))\n",
        "\n",
        "inputarray = predict('WhatsApp.apk')"
      ]
    },
    {
      "cell_type": "code",
      "execution_count": 4,
      "metadata": {
        "id": "Ev6sD-IBmDh_"
      },
      "outputs": [],
      "source": [
        "import pandas as pd\n",
        "import numpy as np"
      ]
    },
    {
      "cell_type": "code",
      "execution_count": 5,
      "metadata": {
        "id": "JlRH3j07mx0X"
      },
      "outputs": [],
      "source": [
        "dt=pd.read_csv('training .csv')"
      ]
    },
    {
      "cell_type": "code",
      "execution_count": 6,
      "metadata": {
        "id": "h1dfaXoPm-yH"
      },
      "outputs": [],
      "source": [
        "cols = {}\n",
        "for name in dt.columns:\n",
        "        if name[0] is ' ':\n",
        "            cols[name] = name[1:]\n",
        "dt.rename(cols, axis=1, inplace=True, errors='raise')"
      ]
    },
    {
      "cell_type": "code",
      "execution_count": 7,
      "metadata": {
        "id": "XiqfNhlHnH9n"
      },
      "outputs": [],
      "source": [
        "cols_to_keep = ['android.permission.ACCESS_CACHE_FILESYSTEM',\n",
        " 'android.permission.ACCESS_COARSE_LOCATION',\n",
        " 'android.permission.ACCESS_DOWNLOAD_MANAGER',\n",
        " 'android.permission.ACCESS_DOWNLOAD_MANAGER_ADVANCED',\n",
        " 'android.permission.ACCESS_FINE_LOCATION',\n",
        " 'android.permission.ACCESS_LOCATION_EXTRA_COMMANDS',\n",
        " 'android.permission.ACCESS_MOCK_LOCATION',\n",
        " 'android.permission.ACCESS_NETWORK_STATE',\n",
        " 'android.permission.ACCESS_WIFI_STATE',\n",
        " 'android.permission.ACCESS_WIMAX_STATE',\n",
        " 'android.permission.AUTHENTICATE_ACCOUNTS',\n",
        " 'android.permission.BATTERY_STATS',\n",
        " 'android.permission.BLUETOOTH',\n",
        " 'android.permission.BLUETOOTH_ADMIN',\n",
        " 'android.permission.BROADCAST_PACKAGE_REMOVED',\n",
        " 'android.permission.BROADCAST_STICKY',\n",
        " 'android.permission.CALL_PHONE',\n",
        " 'android.permission.CALL_PRIVILEGED',\n",
        " 'android.permission.CAMERA',\n",
        " 'android.permission.CHANGE_COMPONENT_ENABLED_STATE',\n",
        " 'android.permission.CHANGE_CONFIGURATION',\n",
        " 'android.permission.CHANGE_NETWORK_STATE',\n",
        " 'android.permission.CHANGE_WIFI_MULTICAST_STATE',\n",
        " 'android.permission.CHANGE_WIFI_STATE',\n",
        " 'android.permission.CHANGE_WIMAX_STATE',\n",
        " 'android.permission.CLEAR_APP_CACHE',\n",
        " 'android.permission.DELETE_CACHE_FILES',\n",
        " 'android.permission.DELETE_PACKAGES',\n",
        " 'android.permission.DEVICE_POWER',\n",
        " 'android.permission.DISABLE_KEYGUARD',\n",
        " 'android.permission.DUMP',\n",
        " 'android.permission.EXPAND_STATUS_BAR',\n",
        " 'android.permission.FLASHLIGHT',\n",
        " 'android.permission.GET_ACCOUNTS',\n",
        " 'android.permission.GET_PACKAGE_SIZE',\n",
        " 'android.permission.GET_TASKS',\n",
        " 'android.permission.GLOBAL_SEARCH_CONTROL',\n",
        " 'android.permission.HARDWARE_TEST',\n",
        " 'android.permission.INJECT_EVENTS',\n",
        " 'android.permission.INSTALL_PACKAGES',\n",
        " 'android.permission.INTERNET',\n",
        " 'android.permission.KILL_BACKGROUND_PROCESSES',\n",
        " 'android.permission.MANAGE_ACCOUNTS',\n",
        " 'android.permission.MODIFY_AUDIO_SETTINGS',\n",
        " 'android.permission.MODIFY_PHONE_STATE',\n",
        " 'android.permission.MOUNT_UNMOUNT_FILESYSTEMS',\n",
        " 'android.permission.NFC',\n",
        " 'android.permission.PERSISTENT_ACTIVITY',\n",
        " 'android.permission.PROCESS_OUTGOING_CALLS',\n",
        " 'android.permission.READ_CALENDAR',\n",
        " 'android.permission.READ_CALL_LOG',\n",
        " 'android.permission.READ_CONTACTS',\n",
        " 'android.permission.READ_EXTERNAL_STORAGE',\n",
        " 'android.permission.READ_LOGS',\n",
        " 'android.permission.READ_PHONE_STATE',\n",
        " 'android.permission.READ_SMS',\n",
        " 'android.permission.READ_SYNC_SETTINGS',\n",
        " 'android.permission.READ_SYNC_STATS',\n",
        " 'android.permission.REBOOT',\n",
        " 'android.permission.RECEIVE_BOOT_COMPLETED',\n",
        " 'android.permission.RECEIVE_MMS',\n",
        " 'android.permission.RECEIVE_SMS',\n",
        " 'android.permission.RECEIVE_WAP_PUSH',\n",
        " 'android.permission.RECORD_AUDIO',\n",
        " 'android.permission.RESTART_PACKAGES',\n",
        " 'android.permission.SEND_DOWNLOAD_COMPLETED_INTENTS',\n",
        " 'android.permission.SEND_SMS',\n",
        " 'android.permission.SET_ORIENTATION',\n",
        " 'android.permission.SET_PREFERRED_APPLICATIONS',\n",
        " 'android.permission.SET_WALLPAPER',\n",
        " 'android.permission.SET_WALLPAPER_HINTS',\n",
        " 'android.permission.SYSTEM_ALERT_WINDOW',\n",
        " 'android.permission.UPDATE_DEVICE_STATS',\n",
        " 'android.permission.USE_CREDENTIALS',\n",
        " 'android.permission.VIBRATE',\n",
        " 'android.permission.WAKE_LOCK',\n",
        " 'android.permission.WRITE_APN_SETTINGS',\n",
        " 'android.permission.WRITE_CALENDAR',\n",
        " 'android.permission.WRITE_CALL_LOG',\n",
        " 'android.permission.WRITE_CONTACTS',\n",
        " 'android.permission.WRITE_EXTERNAL_STORAGE',\n",
        " 'android.permission.WRITE_SECURE_SETTINGS',\n",
        " 'android.permission.WRITE_SETTINGS',\n",
        " 'android.permission.WRITE_SMS',\n",
        " 'android.permission.WRITE_SYNC_SETTINGS',\n",
        " 'com.android.alarm.permission.SET_ALARM',\n",
        " 'com.android.browser.permission.READ_HISTORY_BOOKMARKS',\n",
        " 'com.android.browser.permission.WRITE_HISTORY_BOOKMARKS',\n",
        " 'com.android.launcher.permission.INSTALL_SHORTCUT',\n",
        " 'com.android.launcher.permission.READ_SETTINGS',\n",
        " 'com.android.launcher.permission.UNINSTALL_SHORTCUT',\n",
        " 'com.android.launcher.permission.WRITE_SETTINGS',\n",
        " 'type']"
      ]
    },
    {
      "cell_type": "code",
      "execution_count": 8,
      "metadata": {
        "id": "411BprWanQlv"
      },
      "outputs": [],
      "source": [
        "dt.drop(columns=[col for col in dt.columns if col not in cols_to_keep], inplace=True, errors='raise') \n",
        "dt.dropna(inplace=True)"
      ]
    },
    {
      "cell_type": "code",
      "execution_count": 9,
      "metadata": {
        "colab": {
          "base_uri": "https://localhost:8080/"
        },
        "id": "6nvCwzxWnSt_",
        "outputId": "a6b49285-0a20-480f-8ee4-55935797dba2"
      },
      "outputs": [
        {
          "data": {
            "text/plain": [
              "android.permission.ACCESS_CACHE_FILESYSTEM             0\n",
              "android.permission.ACCESS_COARSE_LOCATION              0\n",
              "android.permission.ACCESS_DOWNLOAD_MANAGER             0\n",
              "android.permission.ACCESS_DOWNLOAD_MANAGER_ADVANCED    0\n",
              "android.permission.ACCESS_FINE_LOCATION                0\n",
              "                                                      ..\n",
              "com.android.launcher.permission.INSTALL_SHORTCUT       0\n",
              "com.android.launcher.permission.READ_SETTINGS          0\n",
              "com.android.launcher.permission.UNINSTALL_SHORTCUT     0\n",
              "com.android.launcher.permission.WRITE_SETTINGS         0\n",
              "type                                                   0\n",
              "Length: 93, dtype: int64"
            ]
          },
          "execution_count": 9,
          "metadata": {},
          "output_type": "execute_result"
        }
      ],
      "source": [
        "dt.isna().any()\n",
        "dt.isna().sum()"
      ]
    },
    {
      "cell_type": "code",
      "execution_count": 10,
      "metadata": {
        "id": "hTMnqtvXnVgU"
      },
      "outputs": [],
      "source": [
        "from keras.models import Sequential, Model #sequential to arrange the layers in sequential order\n",
        "                                           #model to access the model's information\n",
        "from keras.layers import Dense, Dropout, Activation\n",
        "from sklearn.model_selection import train_test_split\n",
        "import tensorflow\n",
        "import numpy as np\n",
        "from sklearn.preprocessing import LabelEncoder#Encode target labels with value between 0 and n_classes-1."
      ]
    },
    {
      "cell_type": "code",
      "execution_count": 11,
      "metadata": {
        "id": "XLv_Fa1gnX2_"
      },
      "outputs": [],
      "source": [
        "Y = dt['type']\n",
        "#print(Y)\n",
        "X = dt.drop(['type'], axis=1)\n",
        "encoder = LabelEncoder().fit(Y)\n",
        "Y = encoder.transform(Y)\n",
        "\n",
        "X_train, X_test, y_train, y_test = train_test_split(X, Y, test_size=0.25,random_state=42)"
      ]
    },
    {
      "cell_type": "code",
      "execution_count": 12,
      "metadata": {
        "id": "96QyrRaanbRo"
      },
      "outputs": [],
      "source": [
        "def correlation(dataset, threshold):\n",
        "    col_corr = set()  # Set of all the names of correlated columns\n",
        "    corr_matrix = dataset.corr()\n",
        "    for i in range(len(corr_matrix.columns)):\n",
        "        for j in range(i):\n",
        "            if abs(corr_matrix.iloc[i, j]) > threshold: # we are interested in absolute coeff value\n",
        "                colname = corr_matrix.columns[i]  # getting the name of column\n",
        "                col_corr.add(colname)\n",
        "    return col_corr"
      ]
    },
    {
      "cell_type": "code",
      "execution_count": 13,
      "metadata": {
        "id": "NehRk_zwoXGv"
      },
      "outputs": [],
      "source": [
        "corr_features = correlation(X_train, 0.7)"
      ]
    },
    {
      "cell_type": "code",
      "execution_count": 14,
      "metadata": {
        "colab": {
          "base_uri": "https://localhost:8080/"
        },
        "id": "auZ0UV6JoYr3",
        "outputId": "f223dcd4-f32f-44c2-86c8-0f9432b1dc3b"
      },
      "outputs": [
        {
          "name": "stdout",
          "output_type": "stream",
          "text": [
            "(298, 92)\n",
            "(298, 58)\n"
          ]
        }
      ],
      "source": [
        "print(X_train.shape)\n",
        "X_train.drop(corr_features,axis=1,inplace=True)\n",
        "X_test.drop(corr_features,axis=1,inplace=True)\n",
        "print(X_train.shape)"
      ]
    },
    {
      "cell_type": "code",
      "execution_count": 15,
      "metadata": {
        "colab": {
          "base_uri": "https://localhost:8080/"
        },
        "id": "9QybDVqCrFTt",
        "outputId": "80b8b92f-5a0f-4eba-d8d5-e3f2797708d5"
      },
      "outputs": [
        {
          "name": "stdout",
          "output_type": "stream",
          "text": [
            "Index(['android.permission.ACCESS_CACHE_FILESYSTEM',\n",
            "       'android.permission.ACCESS_COARSE_LOCATION',\n",
            "       'android.permission.ACCESS_FINE_LOCATION',\n",
            "       'android.permission.ACCESS_LOCATION_EXTRA_COMMANDS',\n",
            "       'android.permission.ACCESS_MOCK_LOCATION',\n",
            "       'android.permission.ACCESS_NETWORK_STATE',\n",
            "       'android.permission.ACCESS_WIFI_STATE',\n",
            "       'android.permission.ACCESS_WIMAX_STATE',\n",
            "       'android.permission.AUTHENTICATE_ACCOUNTS',\n",
            "       'android.permission.BATTERY_STATS', 'android.permission.BLUETOOTH',\n",
            "       'android.permission.BROADCAST_PACKAGE_REMOVED',\n",
            "       'android.permission.BROADCAST_STICKY', 'android.permission.CALL_PHONE',\n",
            "       'android.permission.CALL_PRIVILEGED', 'android.permission.CAMERA',\n",
            "       'android.permission.CHANGE_COMPONENT_ENABLED_STATE',\n",
            "       'android.permission.CHANGE_CONFIGURATION',\n",
            "       'android.permission.CHANGE_NETWORK_STATE',\n",
            "       'android.permission.CHANGE_WIFI_MULTICAST_STATE',\n",
            "       'android.permission.CHANGE_WIFI_STATE',\n",
            "       'android.permission.CLEAR_APP_CACHE',\n",
            "       'android.permission.DELETE_PACKAGES', 'android.permission.DEVICE_POWER',\n",
            "       'android.permission.DISABLE_KEYGUARD', 'android.permission.DUMP',\n",
            "       'android.permission.EXPAND_STATUS_BAR',\n",
            "       'android.permission.GET_ACCOUNTS',\n",
            "       'android.permission.GET_PACKAGE_SIZE', 'android.permission.GET_TASKS',\n",
            "       'android.permission.INJECT_EVENTS',\n",
            "       'android.permission.INSTALL_PACKAGES', 'android.permission.INTERNET',\n",
            "       'android.permission.KILL_BACKGROUND_PROCESSES',\n",
            "       'android.permission.MANAGE_ACCOUNTS',\n",
            "       'android.permission.MODIFY_AUDIO_SETTINGS',\n",
            "       'android.permission.MOUNT_UNMOUNT_FILESYSTEMS',\n",
            "       'android.permission.NFC', 'android.permission.PROCESS_OUTGOING_CALLS',\n",
            "       'android.permission.READ_CALENDAR', 'android.permission.READ_CALL_LOG',\n",
            "       'android.permission.READ_LOGS', 'android.permission.READ_PHONE_STATE',\n",
            "       'android.permission.READ_SMS',\n",
            "       'android.permission.RECEIVE_BOOT_COMPLETED',\n",
            "       'android.permission.RECORD_AUDIO', 'android.permission.SET_ORIENTATION',\n",
            "       'android.permission.SET_PREFERRED_APPLICATIONS',\n",
            "       'android.permission.SET_WALLPAPER',\n",
            "       'android.permission.SYSTEM_ALERT_WINDOW', 'android.permission.VIBRATE',\n",
            "       'android.permission.WAKE_LOCK',\n",
            "       'android.permission.WRITE_EXTERNAL_STORAGE',\n",
            "       'android.permission.WRITE_SETTINGS',\n",
            "       'com.android.alarm.permission.SET_ALARM',\n",
            "       'com.android.browser.permission.READ_HISTORY_BOOKMARKS',\n",
            "       'com.android.launcher.permission.INSTALL_SHORTCUT',\n",
            "       'com.android.launcher.permission.UNINSTALL_SHORTCUT'],\n",
            "      dtype='object')\n"
          ]
        }
      ],
      "source": [
        "print(X_train.columns)"
      ]
    },
    {
      "cell_type": "code",
      "execution_count": 16,
      "metadata": {
        "id": "-5YZGQo_oag_"
      },
      "outputs": [],
      "source": [
        "dt.drop(columns=[col for col in dt.columns if col in corr_features], inplace=True, errors='raise') \n",
        "dt.dropna(inplace=True)"
      ]
    },
    {
      "cell_type": "code",
      "execution_count": 22,
      "metadata": {
        "colab": {
          "base_uri": "https://localhost:8080/"
        },
        "id": "8eT19CgBocew",
        "outputId": "8c04e813-a8f5-44ab-8401-a3e73ff20dad"
      },
      "outputs": [
        {
          "name": "stdout",
          "output_type": "stream",
          "text": [
            "Epoch 1/50\n",
            "WARNING:tensorflow:AutoGraph could not transform <function Model.make_train_function.<locals>.train_function at 0x0000019465615678> and will run it as-is.\n",
            "Please report this to the TensorFlow team. When filing the bug, set the verbosity to 10 (on Linux, `export AUTOGRAPH_VERBOSITY=10`) and attach the full output.\n",
            "Cause: 'arguments' object has no attribute 'posonlyargs'\n",
            "To silence this warning, decorate the function with @tf.autograph.experimental.do_not_convert\n",
            "WARNING: AutoGraph could not transform <function Model.make_train_function.<locals>.train_function at 0x0000019465615678> and will run it as-is.\n",
            "Please report this to the TensorFlow team. When filing the bug, set the verbosity to 10 (on Linux, `export AUTOGRAPH_VERBOSITY=10`) and attach the full output.\n",
            "Cause: 'arguments' object has no attribute 'posonlyargs'\n",
            "To silence this warning, decorate the function with @tf.autograph.experimental.do_not_convert\n",
            "10/10 [==============================] - 1s 3ms/step - loss: 0.6551 - accuracy: 0.5805\n",
            "Epoch 2/50\n",
            "10/10 [==============================] - 0s 5ms/step - loss: 0.5647 - accuracy: 0.6678\n",
            "Epoch 3/50\n",
            "10/10 [==============================] - 0s 5ms/step - loss: 0.4519 - accuracy: 0.8792\n",
            "Epoch 4/50\n",
            "10/10 [==============================] - 0s 5ms/step - loss: 0.3316 - accuracy: 0.9396\n",
            "Epoch 5/50\n",
            "10/10 [==============================] - 0s 5ms/step - loss: 0.2155 - accuracy: 0.9430\n",
            "Epoch 6/50\n",
            "10/10 [==============================] - 0s 5ms/step - loss: 0.1310 - accuracy: 0.9664\n",
            "Epoch 7/50\n",
            "10/10 [==============================] - 0s 4ms/step - loss: 0.1045 - accuracy: 0.9732\n",
            "Epoch 8/50\n",
            "10/10 [==============================] - 0s 5ms/step - loss: 0.1011 - accuracy: 0.9732\n",
            "Epoch 9/50\n",
            "10/10 [==============================] - 0s 4ms/step - loss: 0.1150 - accuracy: 0.9664\n",
            "Epoch 10/50\n",
            "10/10 [==============================] - 0s 4ms/step - loss: 0.0866 - accuracy: 0.9664\n",
            "Epoch 11/50\n",
            "10/10 [==============================] - 0s 4ms/step - loss: 0.0747 - accuracy: 0.9765\n",
            "Epoch 12/50\n",
            "10/10 [==============================] - 0s 4ms/step - loss: 0.0566 - accuracy: 0.9866\n",
            "Epoch 13/50\n",
            "10/10 [==============================] - 0s 5ms/step - loss: 0.0647 - accuracy: 0.9799\n",
            "Epoch 14/50\n",
            "10/10 [==============================] - 0s 4ms/step - loss: 0.0590 - accuracy: 0.9832\n",
            "Epoch 15/50\n",
            "10/10 [==============================] - 0s 3ms/step - loss: 0.0595 - accuracy: 0.9799\n",
            "Epoch 16/50\n",
            "10/10 [==============================] - 0s 4ms/step - loss: 0.0536 - accuracy: 0.9866\n",
            "Epoch 17/50\n",
            "10/10 [==============================] - 0s 4ms/step - loss: 0.0510 - accuracy: 0.9899\n",
            "Epoch 18/50\n",
            "10/10 [==============================] - 0s 3ms/step - loss: 0.0518 - accuracy: 0.9866\n",
            "Epoch 19/50\n",
            "10/10 [==============================] - 0s 3ms/step - loss: 0.0440 - accuracy: 0.9899\n",
            "Epoch 20/50\n",
            "10/10 [==============================] - 0s 3ms/step - loss: 0.0414 - accuracy: 0.9866\n",
            "Epoch 21/50\n",
            "10/10 [==============================] - 0s 8ms/step - loss: 0.0312 - accuracy: 0.9899\n",
            "Epoch 22/50\n",
            "10/10 [==============================] - 0s 6ms/step - loss: 0.0376 - accuracy: 0.9866\n",
            "Epoch 23/50\n",
            "10/10 [==============================] - 0s 5ms/step - loss: 0.0407 - accuracy: 0.9866\n",
            "Epoch 24/50\n",
            "10/10 [==============================] - 0s 5ms/step - loss: 0.0372 - accuracy: 0.9866\n",
            "Epoch 25/50\n",
            "10/10 [==============================] - 0s 4ms/step - loss: 0.0251 - accuracy: 0.9899\n",
            "Epoch 26/50\n",
            "10/10 [==============================] - 0s 4ms/step - loss: 0.0346 - accuracy: 0.9899\n",
            "Epoch 27/50\n",
            "10/10 [==============================] - 0s 4ms/step - loss: 0.0313 - accuracy: 0.9899\n",
            "Epoch 28/50\n",
            "10/10 [==============================] - 0s 5ms/step - loss: 0.0309 - accuracy: 0.9899\n",
            "Epoch 29/50\n",
            "10/10 [==============================] - 0s 5ms/step - loss: 0.0314 - accuracy: 0.9933\n",
            "Epoch 30/50\n",
            "10/10 [==============================] - 0s 4ms/step - loss: 0.0293 - accuracy: 0.9899\n",
            "Epoch 31/50\n",
            "10/10 [==============================] - 0s 4ms/step - loss: 0.0306 - accuracy: 0.9933\n",
            "Epoch 32/50\n",
            "10/10 [==============================] - 0s 5ms/step - loss: 0.0285 - accuracy: 0.9933\n",
            "Epoch 33/50\n",
            "10/10 [==============================] - 0s 4ms/step - loss: 0.0250 - accuracy: 0.9933\n",
            "Epoch 34/50\n",
            "10/10 [==============================] - 0s 5ms/step - loss: 0.0323 - accuracy: 0.9899\n",
            "Epoch 35/50\n",
            "10/10 [==============================] - 0s 8ms/step - loss: 0.0375 - accuracy: 0.9832\n",
            "Epoch 36/50\n",
            "10/10 [==============================] - 0s 5ms/step - loss: 0.0377 - accuracy: 0.9866\n",
            "Epoch 37/50\n",
            "10/10 [==============================] - 0s 5ms/step - loss: 0.0273 - accuracy: 0.9933\n",
            "Epoch 38/50\n",
            "10/10 [==============================] - 0s 5ms/step - loss: 0.0222 - accuracy: 0.9933\n",
            "Epoch 39/50\n",
            "10/10 [==============================] - 0s 5ms/step - loss: 0.0257 - accuracy: 0.9933\n",
            "Epoch 40/50\n",
            "10/10 [==============================] - 0s 4ms/step - loss: 0.0333 - accuracy: 0.9933\n",
            "Epoch 41/50\n",
            "10/10 [==============================] - 0s 4ms/step - loss: 0.0225 - accuracy: 0.9933\n",
            "Epoch 42/50\n",
            "10/10 [==============================] - 0s 5ms/step - loss: 0.0235 - accuracy: 0.9933\n",
            "Epoch 43/50\n",
            "10/10 [==============================] - 0s 5ms/step - loss: 0.0279 - accuracy: 0.9933\n",
            "Epoch 44/50\n",
            "10/10 [==============================] - 0s 5ms/step - loss: 0.0200 - accuracy: 0.9933\n",
            "Epoch 45/50\n",
            "10/10 [==============================] - 0s 5ms/step - loss: 0.0277 - accuracy: 0.9933\n",
            "Epoch 46/50\n",
            "10/10 [==============================] - 0s 10ms/step - loss: 0.0213 - accuracy: 0.9933\n",
            "Epoch 47/50\n",
            "10/10 [==============================] - 0s 5ms/step - loss: 0.0323 - accuracy: 0.9933\n",
            "Epoch 48/50\n",
            "10/10 [==============================] - 0s 7ms/step - loss: 0.0218 - accuracy: 0.9933\n",
            "Epoch 49/50\n",
            "10/10 [==============================] - 0s 5ms/step - loss: 0.0228 - accuracy: 0.9933\n",
            "Epoch 50/50\n",
            "10/10 [==============================] - 0s 6ms/step - loss: 0.0329 - accuracy: 0.9933\n",
            "WARNING:tensorflow:AutoGraph could not transform <function Model.make_test_function.<locals>.test_function at 0x00000194656010D8> and will run it as-is.\n",
            "Please report this to the TensorFlow team. When filing the bug, set the verbosity to 10 (on Linux, `export AUTOGRAPH_VERBOSITY=10`) and attach the full output.\n",
            "Cause: 'arguments' object has no attribute 'posonlyargs'\n",
            "To silence this warning, decorate the function with @tf.autograph.experimental.do_not_convert\n",
            "WARNING: AutoGraph could not transform <function Model.make_test_function.<locals>.test_function at 0x00000194656010D8> and will run it as-is.\n",
            "Please report this to the TensorFlow team. When filing the bug, set the verbosity to 10 (on Linux, `export AUTOGRAPH_VERBOSITY=10`) and attach the full output.\n",
            "Cause: 'arguments' object has no attribute 'posonlyargs'\n",
            "To silence this warning, decorate the function with @tf.autograph.experimental.do_not_convert\n",
            "4/4 [==============================] - 0s 2ms/step - loss: 0.8192 - accuracy: 0.8900\n",
            "\n",
            "loss: 81.92%\n",
            "\n",
            "accuracy: 89.00%\n"
          ]
        }
      ],
      "source": [
        "\n",
        "AN = Sequential() #defining the Model\n",
        "AN.add(Dense(256, activation='relu', input_dim=dt.shape[1]-1))#adds a layer (units),specifies the input shape\n",
        "AN.add(Dropout(0.2))#(droput rate) to avoid overfitting \n",
        "AN.add(Dense(128, activation='relu'))\n",
        "AN.add(Dropout(0.2))\n",
        "AN.add(Dense(128, activation='relu'))\n",
        "AN.add(Dropout(0.2))\n",
        "AN.add(Dense(32, activation='relu'))\n",
        "AN.add(Dropout(0.2))\n",
        "AN.add(Dense(1, activation='sigmoid'))#due to binary classification sigmoid function is used.(output layer)\n",
        "\n",
        "AN.compile(optimizer='adam', loss='binary_crossentropy', metrics=['accuracy'])\n",
        "\n",
        "history = AN.fit(X_train, y_train, epochs=50, batch_size=32)#model training \n",
        "\n",
        "\n",
        "scores = AN.evaluate(X_test, y_test)#check whether the model is best fit for the given problem and corresponding data\n",
        "                    \n",
        "for i in range(len(scores)):\n",
        "  print(\"\\n%s: %.2f%%\" % (AN.metrics_names[i], scores[i]*100))"
      ]
    },
    {
      "cell_type": "code",
      "execution_count": 24,
      "metadata": {},
      "outputs": [
        {
          "data": {
            "image/png": "[encoded data removed]",
            "text/plain": [
              "<Figure size 432x288 with 1 Axes>"
            ]
          },
          "metadata": {
            "needs_background": "light"
          },
          "output_type": "display_data"
        },
        {
          "data": {
            "image/png": "[encoded data removed]",
            "text/plain": [
              "<Figure size 432x288 with 1 Axes>"
            ]
          },
          "metadata": {
            "needs_background": "light"
          },
          "output_type": "display_data"
        }
      ],
      "source": [
        "import matplotlib.pyplot as plt\n",
        "loss = history.history['loss']\n",
        "accuracy = history.history['accuracy']\n",
        "# Plotting the loss\n",
        "plt.plot(loss, label='Loss')\n",
        "plt.xlabel('Epochs')\n",
        "plt.ylabel('Loss')\n",
        "plt.legend()\n",
        "plt.show()\n",
        "\n",
        "# Plotting the accuracy\n",
        "plt.plot(accuracy, label='Accuracy')\n",
        "plt.xlabel('Epochs')\n",
        "plt.ylabel('Accuracy')\n",
        "plt.legend()\n",
        "plt.show()\n",
        "\n"
      ]
    },
    {
      "cell_type": "code",
      "execution_count": 18,
      "metadata": {
        "colab": {
          "base_uri": "https://localhost:8080/"
        },
        "id": "l1FllY7coe9X",
        "outputId": "c7c986e5-1391-499b-cd00-86cb57450b1c"
      },
      "outputs": [
        {
          "name": "stdout",
          "output_type": "stream",
          "text": [
            "58\n",
            "(298, 58)\n"
          ]
        }
      ],
      "source": [
        "print(len(result))\n",
        "print(X_train.shape)"
      ]
    },
    {
      "cell_type": "code",
      "execution_count": 19,
      "metadata": {
        "colab": {
          "base_uri": "https://localhost:8080/"
        },
        "id": "V1nUpf6Tr5B8",
        "outputId": "69716353-0d8a-46fd-b6fb-4144e2fcbde1"
      },
      "outputs": [
        {
          "name": "stdout",
          "output_type": "stream",
          "text": [
            "WARNING:tensorflow:AutoGraph could not transform <function Model.make_predict_function.<locals>.predict_function at 0x0000019465497048> and will run it as-is.\n",
            "Please report this to the TensorFlow team. When filing the bug, set the verbosity to 10 (on Linux, `export AUTOGRAPH_VERBOSITY=10`) and attach the full output.\n",
            "Cause: 'arguments' object has no attribute 'posonlyargs'\n",
            "To silence this warning, decorate the function with @tf.autograph.experimental.do_not_convert\n",
            "WARNING: AutoGraph could not transform <function Model.make_predict_function.<locals>.predict_function at 0x0000019465497048> and will run it as-is.\n",
            "Please report this to the TensorFlow team. When filing the bug, set the verbosity to 10 (on Linux, `export AUTOGRAPH_VERBOSITY=10`) and attach the full output.\n",
            "Cause: 'arguments' object has no attribute 'posonlyargs'\n",
            "To silence this warning, decorate the function with @tf.autograph.experimental.do_not_convert\n",
            "1/1 [==============================] - 0s 100ms/step\n"
          ]
        }
      ],
      "source": [
        "from re import M\n",
        "result = np.array(result)\n",
        "result = result.reshape((1,-1))\n",
        "predictedvalue = AN.predict(result)\n",
        "malicious = False\n",
        "if predictedvalue > 0.5:\n",
        "  malicious = True"
      ]
    },
    {
      "cell_type": "code",
      "execution_count": 20,
      "metadata": {
        "colab": {
          "base_uri": "https://localhost:8080/"
        },
        "id": "0nyPAsnjtDZe",
        "outputId": "086e6391-61ce-4330-aa15-98c11b9bc37e"
      },
      "outputs": [
        {
          "name": "stdout",
          "output_type": "stream",
          "text": [
            "False\n"
          ]
        }
      ],
      "source": [
        "print(malicious)"
      ]
    },
    {
      "cell_type": "code",
      "execution_count": 21,
      "metadata": {
        "id": "4RUi-nKQtlms"
      },
      "outputs": [
        {
          "name": "stdout",
          "output_type": "stream",
          "text": [
            "WARNING:tensorflow:AutoGraph could not transform <function trace_model_call.<locals>._wrapped_model at 0x00000194655089D8> and will run it as-is.\n",
            "Please report this to the TensorFlow team. When filing the bug, set the verbosity to 10 (on Linux, `export AUTOGRAPH_VERBOSITY=10`) and attach the full output.\n",
            "Cause: module 'gast' has no attribute 'Constant'\n",
            "To silence this warning, decorate the function with @tf.autograph.experimental.do_not_convert\n",
            "WARNING: AutoGraph could not transform <function trace_model_call.<locals>._wrapped_model at 0x00000194655089D8> and will run it as-is.\n",
            "Please report this to the TensorFlow team. When filing the bug, set the verbosity to 10 (on Linux, `export AUTOGRAPH_VERBOSITY=10`) and attach the full output.\n",
            "Cause: module 'gast' has no attribute 'Constant'\n",
            "To silence this warning, decorate the function with @tf.autograph.experimental.do_not_convert\n",
            "WARNING:tensorflow:AutoGraph could not transform <function canonicalize_signatures.<locals>.signature_wrapper at 0x00000194655810D8> and will run it as-is.\n",
            "Please report this to the TensorFlow team. When filing the bug, set the verbosity to 10 (on Linux, `export AUTOGRAPH_VERBOSITY=10`) and attach the full output.\n",
            "Cause: 'arguments' object has no attribute 'posonlyargs'\n",
            "To silence this warning, decorate the function with @tf.autograph.experimental.do_not_convert\n",
            "WARNING: AutoGraph could not transform <function canonicalize_signatures.<locals>.signature_wrapper at 0x00000194655810D8> and will run it as-is.\n",
            "Please report this to the TensorFlow team. When filing the bug, set the verbosity to 10 (on Linux, `export AUTOGRAPH_VERBOSITY=10`) and attach the full output.\n",
            "Cause: 'arguments' object has no attribute 'posonlyargs'\n",
            "To silence this warning, decorate the function with @tf.autograph.experimental.do_not_convert\n",
            "INFO:tensorflow:Assets written to: augmented_model.model\\assets\n"
          ]
        }
      ],
      "source": [
        "AN.save(\"augmented_model.model\")"
      ]
    },
    {
      "cell_type": "code",
      "execution_count": null,
      "metadata": {
        "id": "SQ9tdXX0uhD0"
      },
      "outputs": [],
      "source": [
        "import tensorflow as tf\n",
        "from tensorflow import keras\n",
        "keras_file = \"My_saved_Model.h5\"\n",
        "keras.models.save_model(AN , keras_file)"
      ]
    },
    {
      "cell_type": "code",
      "execution_count": null,
      "metadata": {
        "colab": {
          "base_uri": "https://localhost:8080/"
        },
        "id": "amyp7SGYvKpf",
        "outputId": "474ac2ab-9277-4c41-c93a-3dd4172895a3"
      },
      "outputs": [
        {
          "data": {
            "text/plain": [
              "277584"
            ]
          },
          "execution_count": 152,
          "metadata": {},
          "output_type": "execute_result"
        }
      ],
      "source": [
        "My_TFlite_Model = tf.keras.models.load_model('My_saved_Model.h5')\n",
        "converter = tf.lite.TFLiteConverter.from_keras_model(My_TFlite_Model)\n",
        "tflite_model = converter.convert()\n",
        "open(\"My_TFlite_Model.tflite\", \"wb\").write(tflite_model)"
      ]
    }
  ],
  "metadata": {
    "colab": {
      "provenance": []
    },
    "kernelspec": {
      "display_name": "Python 3",
      "name": "python3"
    },
    "language_info": {
      "codemirror_mode": {
        "name": "ipython",
        "version": 3
      },
      "file_extension": ".py",
      "mimetype": "text/x-python",
      "name": "python",
      "nbconvert_exporter": "python",
      "pygments_lexer": "ipython3",
      "version": "3.7.6"
    }
  },
  "nbformat": 4,
  "nbformat_minor": 0
}

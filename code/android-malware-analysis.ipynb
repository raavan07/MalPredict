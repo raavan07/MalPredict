{
 "cells": [
  {
   "cell_type": "code",
   "execution_count": 1,
   "metadata": {},
   "outputs": [
    {
     "name": "stdout",
     "output_type": "stream",
     "text": [
      "last update: 2023-05-10 22:29:53.291898\n"
     ]
    }
   ],
   "source": [
    "from datetime import datetime\n",
    "\n",
    "print(\"last update: {}\".format(datetime.now())) "
   ]
  },
  {
   "cell_type": "code",
   "execution_count": 3,
   "metadata": {},
   "outputs": [],
   "source": [
    "from sklearn.naive_bayes import GaussianNB, BernoulliNB\n",
    "from sklearn.metrics import accuracy_score, classification_report\n",
    "from sklearn.ensemble import BaggingClassifier\n",
    "from sklearn.neighbors import KNeighborsClassifier\n",
    "from sklearn.linear_model import SGDClassifier\n",
    "from sklearn.model_selection import train_test_split\n",
    "from sklearn.metrics import cohen_kappa_score\n",
    "from sklearn.metrics import confusion_matrix\n",
    "from sklearn.ensemble import RandomForestClassifier\n",
    "\n",
    "from sklearn import preprocessing\n",
    "import torch\n",
    "from sklearn import svm\n",
    "from sklearn import tree\n",
    "import pandas as pd\n",
    "import joblib\n",
    "import pickle\n",
    "import numpy as np\n",
    "import seaborn as sns"
   ]
  },
  {
   "cell_type": "code",
   "execution_count": 6,
   "metadata": {},
   "outputs": [],
   "source": [
    "import pandas as pd\n",
    "df = pd.read_csv(\"training .csv\")"
   ]
  },
  {
   "cell_type": "code",
   "execution_count": 7,
   "metadata": {},
   "outputs": [
    {
     "data": {
      "text/plain": [
       "1    199\n",
       "0    199\n",
       "Name: type, dtype: int64"
      ]
     },
     "execution_count": 7,
     "metadata": {},
     "output_type": "execute_result"
    }
   ],
   "source": [
    "df = df.astype(\"int64\")\n",
    "df.type.value_counts()"
   ]
  },
  {
   "attachments": {},
   "cell_type": "markdown",
   "metadata": {},
   "source": [
    "Type is the label that represents if an application is a malware or not, as we can see this dataset is balanced."
   ]
  },
  {
   "cell_type": "code",
   "execution_count": 8,
   "metadata": {},
   "outputs": [
    {
     "data": {
      "text/plain": [
       "(398, 331)"
      ]
     },
     "execution_count": 8,
     "metadata": {},
     "output_type": "execute_result"
    }
   ],
   "source": [
    "df.shape"
   ]
  },
  {
   "attachments": {},
   "cell_type": "markdown",
   "metadata": {},
   "source": [
    "*Let's get the top 10 of permissions that are used for our malware samples*"
   ]
  },
  {
   "attachments": {},
   "cell_type": "markdown",
   "metadata": {},
   "source": [
    "*Malicious*"
   ]
  },
  {
   "cell_type": "code",
   "execution_count": 9,
   "metadata": {},
   "outputs": [
    {
     "data": {
      "text/plain": [
       "android.permission.INTERNET                  195\n",
       "android.permission.READ_PHONE_STATE          190\n",
       "android.permission.ACCESS_NETWORK_STATE      167\n",
       "android.permission.WRITE_EXTERNAL_STORAGE    136\n",
       "android.permission.ACCESS_WIFI_STATE         135\n",
       "android.permission.READ_SMS                  124\n",
       "android.permission.WRITE_SMS                 104\n",
       "android.permission.RECEIVE_BOOT_COMPLETED    102\n",
       "android.permission.ACCESS_COARSE_LOCATION     80\n",
       "android.permission.CHANGE_WIFI_STATE          75\n",
       "dtype: int64"
      ]
     },
     "execution_count": 9,
     "metadata": {},
     "output_type": "execute_result"
    }
   ],
   "source": [
    "pd.Series.sort_values(df[df.type==1].sum(axis=0), ascending=False)[1:11]"
   ]
  },
  {
   "attachments": {},
   "cell_type": "markdown",
   "metadata": {},
   "source": [
    "*Benign*"
   ]
  },
  {
   "cell_type": "code",
   "execution_count": 10,
   "metadata": {},
   "outputs": [
    {
     "data": {
      "text/plain": [
       "android.permission.INTERNET                  104\n",
       "android.permission.WRITE_EXTERNAL_STORAGE     76\n",
       "android.permission.ACCESS_NETWORK_STATE       62\n",
       "android.permission.WAKE_LOCK                  36\n",
       "android.permission.RECEIVE_BOOT_COMPLETED     30\n",
       "android.permission.ACCESS_WIFI_STATE          29\n",
       "android.permission.READ_PHONE_STATE           24\n",
       "android.permission.VIBRATE                    21\n",
       "android.permission.ACCESS_FINE_LOCATION       18\n",
       "android.permission.READ_EXTERNAL_STORAGE      15\n",
       "dtype: int64"
      ]
     },
     "execution_count": 10,
     "metadata": {},
     "output_type": "execute_result"
    }
   ],
   "source": [
    "pd.Series.sort_values(df[df.type==0].sum(axis=0), ascending=False)[:10]"
   ]
  },
  {
   "cell_type": "code",
   "execution_count": 11,
   "metadata": {},
   "outputs": [
    {
     "data": {
      "text/plain": [
       "<matplotlib.axes._subplots.AxesSubplot at 0x1cb47024f48>"
      ]
     },
     "execution_count": 11,
     "metadata": {},
     "output_type": "execute_result"
    },
    {
     "data": {
      "image/png": "[encoded data removed]",
      "text/plain": [
       "<Figure size 432x288 with 2 Axes>"
      ]
     },
     "metadata": {
      "needs_background": "light"
     },
     "output_type": "display_data"
    }
   ],
   "source": [
    "import matplotlib.pyplot as plt\n",
    "fig, axs =  plt.subplots(nrows=2, sharex=True)\n",
    "\n",
    "pd.Series.sort_values(df[df.type==0].sum(axis=0), ascending=False)[:10].plot.bar(ax=axs[0])\n",
    "pd.Series.sort_values(df[df.type==1].sum(axis=0), ascending=False)[1:11].plot.bar(ax=axs[1], color=\"red\")"
   ]
  },
  {
   "attachments": {},
   "cell_type": "markdown",
   "metadata": {},
   "source": [
    "The last outputs allow us to get insights about a difference between the permissions used by the malware and the benign applications."
   ]
  },
  {
   "attachments": {},
   "cell_type": "markdown",
   "metadata": {},
   "source": [
    "### Modeling"
   ]
  },
  {
   "cell_type": "code",
   "execution_count": 12,
   "metadata": {},
   "outputs": [],
   "source": [
    "X_train, X_test, y_train, y_test = train_test_split(df.iloc[:, 1:330], df['type'], test_size=0.20, random_state=42)"
   ]
  },
  {
   "attachments": {},
   "cell_type": "markdown",
   "metadata": {},
   "source": [
    "*Naive Bayes algorithm*"
   ]
  },
  {
   "cell_type": "code",
   "execution_count": 13,
   "metadata": {},
   "outputs": [
    {
     "name": "stdout",
     "output_type": "stream",
     "text": [
      "naive_bayes\n",
      "0.8375\n",
      "              precision    recall  f1-score   support\n",
      "\n",
      "           0       0.91      0.76      0.83        41\n",
      "           1       0.78      0.92      0.85        39\n",
      "\n",
      "    accuracy                           0.84        80\n",
      "   macro avg       0.85      0.84      0.84        80\n",
      "weighted avg       0.85      0.84      0.84        80\n",
      "\n"
     ]
    }
   ],
   "source": [
    "# Naive Bayes algorithm\n",
    "gnb = GaussianNB()\n",
    "gnb.fit(X_train, y_train)\n",
    "\n",
    "# pred\n",
    "pred = gnb.predict(X_test)\n",
    "\n",
    "# accuracy\n",
    "accuracy = accuracy_score(pred, y_test)\n",
    "print(\"naive_bayes\")\n",
    "print(accuracy)\n",
    "print(classification_report(pred, y_test, labels=None))"
   ]
  },
  {
   "attachments": {},
   "cell_type": "markdown",
   "metadata": {},
   "source": [
    "*kneighbors algorithm*"
   ]
  },
  {
   "cell_type": "code",
   "execution_count": 14,
   "metadata": {},
   "outputs": [
    {
     "name": "stdout",
     "output_type": "stream",
     "text": [
      "kneighbors 3\n",
      "0.8875\n",
      "              precision    recall  f1-score   support\n",
      "\n",
      "           0       0.94      0.82      0.88        39\n",
      "           1       0.85      0.95      0.90        41\n",
      "\n",
      "    accuracy                           0.89        80\n",
      "   macro avg       0.89      0.89      0.89        80\n",
      "weighted avg       0.89      0.89      0.89        80\n",
      "\n",
      "\n",
      "kneighbors 6\n",
      "0.85\n",
      "              precision    recall  f1-score   support\n",
      "\n",
      "           0       0.94      0.76      0.84        42\n",
      "           1       0.78      0.95      0.86        38\n",
      "\n",
      "    accuracy                           0.85        80\n",
      "   macro avg       0.86      0.85      0.85        80\n",
      "weighted avg       0.87      0.85      0.85        80\n",
      "\n",
      "\n",
      "kneighbors 9\n",
      "0.8625\n",
      "              precision    recall  f1-score   support\n",
      "\n",
      "           0       0.94      0.78      0.85        41\n",
      "           1       0.80      0.95      0.87        39\n",
      "\n",
      "    accuracy                           0.86        80\n",
      "   macro avg       0.87      0.86      0.86        80\n",
      "weighted avg       0.87      0.86      0.86        80\n",
      "\n",
      "\n",
      "kneighbors 12\n",
      "0.85\n",
      "              precision    recall  f1-score   support\n",
      "\n",
      "           0       0.94      0.76      0.84        42\n",
      "           1       0.78      0.95      0.86        38\n",
      "\n",
      "    accuracy                           0.85        80\n",
      "   macro avg       0.86      0.85      0.85        80\n",
      "weighted avg       0.87      0.85      0.85        80\n",
      "\n",
      "\n"
     ]
    }
   ],
   "source": [
    "# kneighbors algorithm\n",
    "\n",
    "for i in range(3,15,3):\n",
    "    \n",
    "    neigh = KNeighborsClassifier(n_neighbors=i)\n",
    "    neigh.fit(X_train, y_train)\n",
    "    pred = neigh.predict(X_test)\n",
    "    # accuracy\n",
    "    accuracy = accuracy_score(pred, y_test)\n",
    "    print(\"kneighbors {}\".format(i))\n",
    "    print(accuracy)\n",
    "    print(classification_report(pred, y_test, labels=None))\n",
    "    print(\"\")"
   ]
  },
  {
   "attachments": {},
   "cell_type": "markdown",
   "metadata": {},
   "source": [
    "*Decision Tree*"
   ]
  },
  {
   "cell_type": "code",
   "execution_count": 15,
   "metadata": {},
   "outputs": [
    {
     "name": "stdout",
     "output_type": "stream",
     "text": [
      "DecisionTreeClassifier()\n",
      "0.95\n",
      "              precision    recall  f1-score   support\n",
      "\n",
      "           0       0.97      0.92      0.94        36\n",
      "           1       0.93      0.98      0.96        44\n",
      "\n",
      "    accuracy                           0.95        80\n",
      "   macro avg       0.95      0.95      0.95        80\n",
      "weighted avg       0.95      0.95      0.95        80\n",
      "\n"
     ]
    }
   ],
   "source": [
    "clf = tree.DecisionTreeClassifier()\n",
    "clf.fit(X_train, y_train)\n",
    "\n",
    "# Read the csv test file\n",
    "\n",
    "pred = clf.predict(X_test)\n",
    "# accuracy\n",
    "accuracy = accuracy_score(pred, y_test)\n",
    "print(clf)\n",
    "print(accuracy)\n",
    "print(classification_report(pred, y_test, labels=None))"
   ]
  }
 ],
 "metadata": {
  "kernelspec": {
   "display_name": "Python 3",
   "language": "python",
   "name": "python3"
  },
  "language_info": {
   "codemirror_mode": {
    "name": "ipython",
    "version": 3
   },
   "file_extension": ".py",
   "mimetype": "text/x-python",
   "name": "python",
   "nbconvert_exporter": "python",
   "pygments_lexer": "ipython3",
   "version": "3.7.6"
  }
 },
 "nbformat": 4,
 "nbformat_minor": 1
}
